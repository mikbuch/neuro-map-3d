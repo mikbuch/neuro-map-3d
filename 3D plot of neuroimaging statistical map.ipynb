{
 "cells": [
  {
   "cell_type": "markdown",
   "id": "00b4de54",
   "metadata": {},
   "source": [
    "# Neuroimaging statistical map visualization\n",
    "\n",
    "In this notebook we will use `nilearn` package to plot 3D brain cortical activity on the atlas.\n",
    "\n",
    "We will be using [this example](https://nilearn.github.io/stable/plotting/index.html#interactive-plots) from the official `nilearn` documentation.\n",
    "First, download (install) `nilearn` -- Python module for neuroimaging data analysis and visualization.\n",
    "\n",
    "---"
   ]
  },
  {
   "cell_type": "code",
   "execution_count": 1,
   "id": "4ab2c211",
   "metadata": {},
   "outputs": [],
   "source": [
    "from nilearn import plotting, datasets\n",
    "from nilearn.image import new_img_like, load_img, get_data"
   ]
  },
  {
   "cell_type": "markdown",
   "id": "7c27ac9f",
   "metadata": {},
   "source": [
    "Now we need some example data. Downloading (fetching) it can take a while."
   ]
  },
  {
   "cell_type": "code",
   "execution_count": 2,
   "id": "77a14652",
   "metadata": {},
   "outputs": [
    {
     "name": "stdout",
     "output_type": "stream",
     "text": [
      "\n",
      "Dataset created in /Users/mbuch/nilearn_data/brainomics_localizer\n",
      "\n",
      "Downloading data from https://osf.io/hwbm2/download ...\n"
     ]
    },
    {
     "name": "stderr",
     "output_type": "stream",
     "text": [
      " ...done. (3 seconds, 0 min)\n"
     ]
    },
    {
     "name": "stdout",
     "output_type": "stream",
     "text": [
      "Downloading data from https://osf.io/download/5d27ddc91c5b4a001b9ef9d0/ ...\n"
     ]
    },
    {
     "name": "stderr",
     "output_type": "stream",
     "text": [
      " ...done. (2 seconds, 0 min)\n"
     ]
    },
    {
     "name": "stdout",
     "output_type": "stream",
     "text": [
      "Downloading data from https://osf.io/download/5d27d29145253a001c3e284f/ ...\n"
     ]
    },
    {
     "name": "stderr",
     "output_type": "stream",
     "text": [
      " ...done. (1 seconds, 0 min)\n"
     ]
    },
    {
     "name": "stdout",
     "output_type": "stream",
     "text": [
      "Downloading data from https://osf.io/download/5d275ede1c5b4a001aa00c26/ ...\n"
     ]
    },
    {
     "name": "stderr",
     "output_type": "stream",
     "text": [
      "Downloaded 9388032 of 13951266 bytes (67.3%,    0.5s remaining) ...done. (3 seconds, 0 min)\n"
     ]
    },
    {
     "name": "stdout",
     "output_type": "stream",
     "text": [
      "Downloading data from https://osf.io/download/5d27037f45253a001c3d4563/ ...\n"
     ]
    },
    {
     "name": "stderr",
     "output_type": "stream",
     "text": [
      " ...done. (2 seconds, 0 min)\n"
     ]
    },
    {
     "name": "stdout",
     "output_type": "stream",
     "text": [
      "Downloading data from https://osf.io/download/5d7b8948fcbf44001c44e695/ ...\n"
     ]
    },
    {
     "name": "stderr",
     "output_type": "stream",
     "text": [
      " ...done. (1 seconds, 0 min)\n",
      "/Users/mbuch/.local/share/virtualenvs/neuro-map-3d-2aBCZF0j/lib/python3.10/site-packages/nilearn/datasets/func.py:764: UserWarning: `legacy_format` will default to `False` in release 0.11. Dataset fetchers will then return pandas dataframes by default instead of recarrays.\n",
      "  warnings.warn(_LEGACY_FORMAT_MSG)\n"
     ]
    },
    {
     "data": {
      "text/plain": [
       "'/Users/mbuch/nilearn_data/brainomics_localizer/brainomics_data/S02/tmaps_LeftAuditory&VisualClickVsRightAuditory&VisualClick.nii.gz'"
      ]
     },
     "execution_count": 2,
     "metadata": {},
     "output_type": "execute_result"
    }
   ],
   "source": [
    "img_path = datasets.fetch_localizer_button_task()['tmap']\n",
    "img_path"
   ]
  },
  {
   "cell_type": "code",
   "execution_count": 3,
   "id": "a2c9e355",
   "metadata": {},
   "outputs": [
    {
     "data": {
      "text/plain": [
       "<nibabel.nifti1.Nifti1Image at 0x10987d9f0>"
      ]
     },
     "execution_count": 3,
     "metadata": {},
     "output_type": "execute_result"
    }
   ],
   "source": [
    "img = load_img(img_path)\n",
    "img"
   ]
  },
  {
   "cell_type": "code",
   "execution_count": 4,
   "id": "45d4875c",
   "metadata": {},
   "outputs": [
    {
     "data": {
      "text/plain": [
       "(53, 63, 46)"
      ]
     },
     "execution_count": 4,
     "metadata": {},
     "output_type": "execute_result"
    }
   ],
   "source": [
    "img.get_fdata().shape"
   ]
  },
  {
   "cell_type": "markdown",
   "id": "8d908ce5",
   "metadata": {},
   "source": [
    "Then we create an object containing the visualization"
   ]
  },
  {
   "cell_type": "code",
   "execution_count": 5,
   "id": "8b707906",
   "metadata": {},
   "outputs": [],
   "source": [
    "view = plotting.view_img_on_surf(img_path, threshold='90%', surf_mesh='fsaverage') "
   ]
  },
  {
   "cell_type": "markdown",
   "id": "a74bf71c",
   "metadata": {},
   "source": [
    "According to the official documentation, you have to display the object in order to invoke the interactive visualization. You can do that just by writing to the executable cell:\n",
    "\n",
    "```\n",
    "view\n",
    "```\n",
    "\n",
    "see below:"
   ]
  },
  {
   "cell_type": "code",
   "execution_count": null,
   "id": "d08600c8",
   "metadata": {},
   "outputs": [],
   "source": [
    "view"
   ]
  },
  {
   "cell_type": "markdown",
   "id": "85ae2e93",
   "metadata": {},
   "source": [
    "And that's it, I hope you like this little tutorial."
   ]
  }
 ],
 "metadata": {
  "kernelspec": {
   "display_name": "Python 3 (ipykernel)",
   "language": "python",
   "name": "python3"
  },
  "language_info": {
   "codemirror_mode": {
    "name": "ipython",
    "version": 3
   },
   "file_extension": ".py",
   "mimetype": "text/x-python",
   "name": "python",
   "nbconvert_exporter": "python",
   "pygments_lexer": "ipython3",
   "version": "3.10.4"
  }
 },
 "nbformat": 4,
 "nbformat_minor": 5
}
